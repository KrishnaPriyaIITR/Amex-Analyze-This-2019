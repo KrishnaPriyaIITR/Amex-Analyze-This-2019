{
 "cells": [
  {
   "cell_type": "code",
   "execution_count": 1,
   "metadata": {
    "colab": {},
    "colab_type": "code",
    "id": "srNyI889WCBV"
   },
   "outputs": [],
   "source": [
    "import pandas as pd\n",
    "import numpy as np\n",
    "import matplotlib\n",
    "import matplotlib.pyplot as plt\n",
    "import seaborn\n",
    "import math \n",
    "import sklearn\n",
    "import matplotlib.dates as mdates\n",
    "\n",
    "pd.options.mode.chained_assignment = None\n",
    "%matplotlib inline"
   ]
  },
  {
   "cell_type": "code",
   "execution_count": 2,
   "metadata": {
    "colab": {
     "base_uri": "https://localhost:8080/",
     "height": 34
    },
    "colab_type": "code",
    "id": "JttkccAgWQsI",
    "outputId": "550a63c5-faf6-45c0-e894-313f28b25b5b"
   },
   "outputs": [
    {
     "data": {
      "text/plain": [
       "((34000, 21), (10000, 20), (54000, 21))"
      ]
     },
     "execution_count": 2,
     "metadata": {},
     "output_type": "execute_result"
    }
   ],
   "source": [
    "train=pd.read_csv(\"development_dataset.csv\")\n",
    "test=pd.read_csv(\"leaderboard_dataset.csv\")\n",
    "test1=pd.read_csv(\"Evaluation_dataset.csv\")\n",
    "new = train.append(test, ignore_index=True,sort=False)\n",
    "data = new.append(test1, ignore_index=True,sort=False)\n",
    "train.shape,test.shape,data.shape"
   ]
  },
  {
   "cell_type": "code",
   "execution_count": 3,
   "metadata": {
    "colab": {},
    "colab_type": "code",
    "id": "c90aFQCOWaSF"
   },
   "outputs": [],
   "source": [
    "data.VAR14=data.VAR14.replace({'.': None})\n",
    "data.VAR14 = data.VAR14.astype(float)"
   ]
  },
  {
   "cell_type": "code",
   "execution_count": 4,
   "metadata": {},
   "outputs": [],
   "source": [
    "data['abnew1']=data['VAR3']*data['VAR12']\n",
    "data['abnew2']=data['VAR4']/data['VAR12']\n",
    "data['abnew3']=data['VAR3']/data['VAR16']\n",
    "data['abnew4']=data['VAR6']*data['VAR12']\n",
    "data['abnew8']=data['VAR4']*data['VAR5']\n",
    "data['abnew5']=np.sqrt(data['VAR6']/data['VAR16'])\n",
    "data['abnew6']=np.sqrt(data['VAR6']/data['VAR8'])\n",
    "data['abnew7']=np.sqrt(data['VAR8']/data['VAR7'])\n",
    "\n",
    "\n",
    "data['new1']=data['VAR3']-data['VAR6']\n",
    "data['new2']=data['VAR7']+data['VAR8']\n",
    "data['new3']=data['VAR7']/data['new2']\n",
    "data['new4']=data['new1']/data['VAR6']\n",
    "data['new5']=data['VAR2']/data['VAR4']\n",
    "data['new6']=data['VAR2']/data['VAR20']\n",
    "data['new7']=data['VAR4']*data['VAR20']\n",
    "data['new8']=data['VAR5']/data['VAR7']\n",
    "data['new10']=data['VAR11']/data['VAR13']\n",
    "data['new11']=data['VAR9']/data['VAR14']\n",
    "data['new12']=data['new11']*data['VAR10']\n",
    "data['new13']=data['VAR13']/(data['VAR13']*data['VAR15'])\n",
    "data['new14']=data['VAR11']/data['VAR12']\n",
    "data['new15']=data['VAR14']+data['VAR18']\n",
    "data['new16']=data['VAR16']/data['VAR7']"
   ]
  },
  {
   "cell_type": "code",
   "execution_count": null,
   "metadata": {},
   "outputs": [],
   "source": []
  },
  {
   "cell_type": "code",
   "execution_count": 5,
   "metadata": {},
   "outputs": [],
   "source": [
    "#data['abnew10']=data['VAR4']*data['VAR8']\n",
    "#data['abnew12']=train['VAR20']*1.66-(train['VAR5']*train['VAR10']/100)\n",
    "\n",
    "#data['new17']=data['VAR7']-data['VAR8']"
   ]
  },
  {
   "cell_type": "code",
   "execution_count": 6,
   "metadata": {},
   "outputs": [],
   "source": [
    "# data['abnew1']=data['VAR3']*data['VAR12']\n",
    "# data['abnew2']=data['VAR4']/data['VAR12']\n",
    "# data['abnew3']=data['VAR3']/data['VAR16']\n",
    "\n",
    "# data['new1']=data['VAR3']-data['VAR6']\n",
    "# data['new5']=data['VAR2']/data['VAR4']\n",
    "# data['new6']=data['VAR2']/data['VAR20']\n",
    "# data['new7']=data['VAR4']*data['VAR20']"
   ]
  },
  {
   "cell_type": "code",
   "execution_count": 7,
   "metadata": {
    "scrolled": true
   },
   "outputs": [],
   "source": [
    "# #data.replace([np.inf, -np.inf], np.nan,inplace=True)\n",
    "# data1=data.copy()\n",
    "# del data['VAR1']\n",
    "# data['VAR10'].fillna(method='ffill', inplace=True)\n",
    "# del data['VAR21']\n"
   ]
  },
  {
   "cell_type": "code",
   "execution_count": 8,
   "metadata": {
    "colab": {
     "base_uri": "https://localhost:8080/",
     "height": 1000
    },
    "colab_type": "code",
    "id": "maBMGBCeWeUk",
    "outputId": "a272cc51-779e-4fe2-db7e-fdd6a3756b5b",
    "scrolled": true
   },
   "outputs": [
    {
     "data": {
      "text/html": [
       "<div>\n",
       "<style scoped>\n",
       "    .dataframe tbody tr th:only-of-type {\n",
       "        vertical-align: middle;\n",
       "    }\n",
       "\n",
       "    .dataframe tbody tr th {\n",
       "        vertical-align: top;\n",
       "    }\n",
       "\n",
       "    .dataframe thead th {\n",
       "        text-align: right;\n",
       "    }\n",
       "</style>\n",
       "<table border=\"1\" class=\"dataframe\">\n",
       "  <thead>\n",
       "    <tr style=\"text-align: right;\">\n",
       "      <th></th>\n",
       "      <th>VAR2</th>\n",
       "      <th>VAR3</th>\n",
       "      <th>VAR4</th>\n",
       "      <th>VAR5</th>\n",
       "      <th>VAR6</th>\n",
       "      <th>VAR7</th>\n",
       "      <th>VAR8</th>\n",
       "      <th>VAR9</th>\n",
       "      <th>VAR10</th>\n",
       "      <th>VAR11</th>\n",
       "      <th>...</th>\n",
       "      <th>new6</th>\n",
       "      <th>new7</th>\n",
       "      <th>new8</th>\n",
       "      <th>new10</th>\n",
       "      <th>new11</th>\n",
       "      <th>new12</th>\n",
       "      <th>new13</th>\n",
       "      <th>new14</th>\n",
       "      <th>new15</th>\n",
       "      <th>new16</th>\n",
       "    </tr>\n",
       "  </thead>\n",
       "  <tbody>\n",
       "    <tr>\n",
       "      <th>0</th>\n",
       "      <td>828.235294</td>\n",
       "      <td>0.138889</td>\n",
       "      <td>321.428571</td>\n",
       "      <td>625.911006</td>\n",
       "      <td>1.818182</td>\n",
       "      <td>1.081550</td>\n",
       "      <td>198.113469</td>\n",
       "      <td>NaN</td>\n",
       "      <td>58.632548</td>\n",
       "      <td>0.279273</td>\n",
       "      <td>...</td>\n",
       "      <td>8.273666</td>\n",
       "      <td>32176.604376</td>\n",
       "      <td>578.716650</td>\n",
       "      <td>0.279273</td>\n",
       "      <td>NaN</td>\n",
       "      <td>NaN</td>\n",
       "      <td>1.0</td>\n",
       "      <td>0.002790</td>\n",
       "      <td>2.0</td>\n",
       "      <td>1.424432</td>\n",
       "    </tr>\n",
       "    <tr>\n",
       "      <th>1</th>\n",
       "      <td>911.764706</td>\n",
       "      <td>0.027778</td>\n",
       "      <td>NaN</td>\n",
       "      <td>611.574748</td>\n",
       "      <td>8.181818</td>\n",
       "      <td>1.344479</td>\n",
       "      <td>198.600020</td>\n",
       "      <td>22.086661</td>\n",
       "      <td>58.632548</td>\n",
       "      <td>NaN</td>\n",
       "      <td>...</td>\n",
       "      <td>6.217113</td>\n",
       "      <td>NaN</td>\n",
       "      <td>454.878683</td>\n",
       "      <td>NaN</td>\n",
       "      <td>22.086661</td>\n",
       "      <td>NaN</td>\n",
       "      <td>NaN</td>\n",
       "      <td>NaN</td>\n",
       "      <td>1.0</td>\n",
       "      <td>1.200921</td>\n",
       "    </tr>\n",
       "    <tr>\n",
       "      <th>2</th>\n",
       "      <td>962.352941</td>\n",
       "      <td>0.833333</td>\n",
       "      <td>35.714286</td>\n",
       "      <td>615.825381</td>\n",
       "      <td>8.181818</td>\n",
       "      <td>0.720796</td>\n",
       "      <td>197.267767</td>\n",
       "      <td>NaN</td>\n",
       "      <td>58.632548</td>\n",
       "      <td>0.453212</td>\n",
       "      <td>...</td>\n",
       "      <td>9.794984</td>\n",
       "      <td>3508.913204</td>\n",
       "      <td>854.368651</td>\n",
       "      <td>0.045321</td>\n",
       "      <td>NaN</td>\n",
       "      <td>NaN</td>\n",
       "      <td>0.1</td>\n",
       "      <td>0.002156</td>\n",
       "      <td>1.0</td>\n",
       "      <td>1.449230</td>\n",
       "    </tr>\n",
       "    <tr>\n",
       "      <th>3</th>\n",
       "      <td>892.941177</td>\n",
       "      <td>NaN</td>\n",
       "      <td>NaN</td>\n",
       "      <td>638.076431</td>\n",
       "      <td>9.090909</td>\n",
       "      <td>0.820218</td>\n",
       "      <td>197.355744</td>\n",
       "      <td>4.363431</td>\n",
       "      <td>58.632548</td>\n",
       "      <td>NaN</td>\n",
       "      <td>...</td>\n",
       "      <td>6.339107</td>\n",
       "      <td>NaN</td>\n",
       "      <td>777.935106</td>\n",
       "      <td>NaN</td>\n",
       "      <td>4.363431</td>\n",
       "      <td>255.839077</td>\n",
       "      <td>NaN</td>\n",
       "      <td>NaN</td>\n",
       "      <td>2.0</td>\n",
       "      <td>1.396859</td>\n",
       "    </tr>\n",
       "    <tr>\n",
       "      <th>4</th>\n",
       "      <td>914.117647</td>\n",
       "      <td>0.083333</td>\n",
       "      <td>NaN</td>\n",
       "      <td>626.514988</td>\n",
       "      <td>5.181818</td>\n",
       "      <td>1.372928</td>\n",
       "      <td>198.790477</td>\n",
       "      <td>85.938202</td>\n",
       "      <td>58.632548</td>\n",
       "      <td>NaN</td>\n",
       "      <td>...</td>\n",
       "      <td>9.026673</td>\n",
       "      <td>NaN</td>\n",
       "      <td>456.334881</td>\n",
       "      <td>NaN</td>\n",
       "      <td>NaN</td>\n",
       "      <td>NaN</td>\n",
       "      <td>NaN</td>\n",
       "      <td>NaN</td>\n",
       "      <td>NaN</td>\n",
       "      <td>1.135049</td>\n",
       "    </tr>\n",
       "  </tbody>\n",
       "</table>\n",
       "<p>5 rows × 42 columns</p>\n",
       "</div>"
      ],
      "text/plain": [
       "         VAR2      VAR3        VAR4        VAR5      VAR6      VAR7  \\\n",
       "0  828.235294  0.138889  321.428571  625.911006  1.818182  1.081550   \n",
       "1  911.764706  0.027778         NaN  611.574748  8.181818  1.344479   \n",
       "2  962.352941  0.833333   35.714286  615.825381  8.181818  0.720796   \n",
       "3  892.941177       NaN         NaN  638.076431  9.090909  0.820218   \n",
       "4  914.117647  0.083333         NaN  626.514988  5.181818  1.372928   \n",
       "\n",
       "         VAR8       VAR9      VAR10     VAR11  ...      new6          new7  \\\n",
       "0  198.113469        NaN  58.632548  0.279273  ...  8.273666  32176.604376   \n",
       "1  198.600020  22.086661  58.632548       NaN  ...  6.217113           NaN   \n",
       "2  197.267767        NaN  58.632548  0.453212  ...  9.794984   3508.913204   \n",
       "3  197.355744   4.363431  58.632548       NaN  ...  6.339107           NaN   \n",
       "4  198.790477  85.938202  58.632548       NaN  ...  9.026673           NaN   \n",
       "\n",
       "         new8     new10      new11       new12  new13     new14  new15  \\\n",
       "0  578.716650  0.279273        NaN         NaN    1.0  0.002790    2.0   \n",
       "1  454.878683       NaN  22.086661         NaN    NaN       NaN    1.0   \n",
       "2  854.368651  0.045321        NaN         NaN    0.1  0.002156    1.0   \n",
       "3  777.935106       NaN   4.363431  255.839077    NaN       NaN    2.0   \n",
       "4  456.334881       NaN        NaN         NaN    NaN       NaN    NaN   \n",
       "\n",
       "      new16  \n",
       "0  1.424432  \n",
       "1  1.200921  \n",
       "2  1.449230  \n",
       "3  1.396859  \n",
       "4  1.135049  \n",
       "\n",
       "[5 rows x 42 columns]"
      ]
     },
     "execution_count": 8,
     "metadata": {},
     "output_type": "execute_result"
    }
   ],
   "source": [
    "data1=data.copy()\n",
    "del data['VAR1']\n",
    "data['VAR10'].fillna(method='ffill', inplace=True)\n",
    "del data['VAR21']\n",
    "\n",
    "\n",
    "# from sklearn.experimental import enable_iterative_imputer\n",
    "# from sklearn.impute import IterativeImputer\n",
    "\n",
    "# data_cols = list(data)\n",
    "# data = pd.DataFrame(IterativeImputer(random_state=1,max_iter=200, sample_posterior=True,verbose=2,min_value=0.0).fit_transform(data))\n",
    "# data.columns = data_cols\n",
    "\n",
    "\n",
    "data.head()"
   ]
  },
  {
   "cell_type": "code",
   "execution_count": 9,
   "metadata": {},
   "outputs": [
    {
     "name": "stdout",
     "output_type": "stream",
     "text": [
      "Data set shape after creating magic features: (54000, 210)\n"
     ]
    }
   ],
   "source": [
    "features = data.columns.values[:]\n",
    "\n",
    "for feature in features:\n",
    "    temp = data[feature].value_counts(dropna=True)\n",
    "\n",
    "    data[feature + 'vc'] = data[feature].map(temp).map(lambda x: min(10, x)).astype(np.uint8)\n",
    "\n",
    "    data[feature + 'sum'] = ((data[feature] - data[feature].mean()) * data[feature + 'vc'].map(lambda x: int(x > 1))).astype(np.float32)\n",
    "    \n",
    "    data[feature + 'sum2'] = ((data[feature]) * data[feature + 'vc'].map(lambda x: int(x > 2))).astype(np.float32)\n",
    "\n",
    "    data[feature + 'sum3'] = ((data[feature]) * data[feature + 'vc'].map(lambda x: int(x > 4))).astype(np.float32) \n",
    "     \n",
    "    \n",
    "print('Data set shape after creating magic features: {}'.format(data.shape))"
   ]
  },
  {
   "cell_type": "code",
   "execution_count": 10,
   "metadata": {},
   "outputs": [],
   "source": [
    "# data.head()"
   ]
  },
  {
   "cell_type": "code",
   "execution_count": 11,
   "metadata": {
    "colab": {},
    "colab_type": "code",
    "id": "drpB3NG2W43y"
   },
   "outputs": [],
   "source": [
    "data['VAR21']=data1['VAR21']\n",
    "train_x=data[~data['VAR21'].isnull()]\n",
    "train_x['VAR21'] = train_x['VAR21'].replace({'Low':0, 'Medium':1, 'High':2})\n",
    "train_x.VAR21 = train_x.VAR21.astype(int)\n",
    "train_y=train_x['VAR21']\n",
    "lead_eval=data[data['VAR21'].isnull()]\n",
    "sh=test.shape[0]\n",
    "test_x1=lead_eval.iloc[:sh,:]\n",
    "test_x2=lead_eval.iloc[sh:,:]\n",
    "\n",
    "del train_x['VAR21']\n",
    "del test_x1['VAR21']\n",
    "del test_x2['VAR21']"
   ]
  },
  {
   "cell_type": "code",
   "execution_count": 12,
   "metadata": {},
   "outputs": [],
   "source": [
    "\n",
    "# from sklearn.model_selection import train_test_split\n",
    "# from sklearn.metrics import confusion_matrix\n",
    "# from sklearn.model_selection import GridSearchCV\n",
    "# from sklearn.metrics.scorer import make_scorer\n",
    "# X_train, X_valid, y_train, y_valid = train_test_split(train_x, train_y, test_size = 0.2, random_state = 10, stratify=train_y)\n",
    "# def my_custom_score(y_valid, predxgb):\n",
    "#     c = confusion_matrix(y_valid, predxgb)\n",
    "#     result = 1000*(c[0,0]+c[1,1]+c[2,2]) - 100*(c[0,1]+c[1,2]+c[2,0]) -200*c[0,2] -50*(c[1,0]+c[2,1])\n",
    "\n",
    "#     return result\n",
    "\n",
    "# scorer = make_scorer(my_custom_score, greater_is_better=True)\n",
    "\n",
    "# modelxgb   =    XGBClassifier( max_delta_step=0,\n",
    "#                 missing=None, n_jobs=-1,\n",
    "#                 nthread=-1, random_state=0,\n",
    "#                 reg_alpha=0, reg_lambda=1, scale_pos_weight=1, seed=None,\n",
    "#                 silent=True, verbosity=3)\n",
    "\n",
    "# grid_values = {\n",
    "#     'learning_rate': [0.09,0.1], 'max_depth' : [6,7], 'n_estimators' :[90,100]\n",
    "# }\n",
    "\n",
    "# grid = GridSearchCV(modelxgb, param_grid = grid_values, scoring=scorer, n_jobs=-1, return_train_score=False)\n",
    "# grid.fit(X_train, y_train)\n",
    "# predxgb    =    grid.predict(X_valid)\n",
    "# print('Grid best parameter: ',grid.best_params_)\n",
    "# print('Grid best score: ',grid.best_score_)"
   ]
  },
  {
   "cell_type": "code",
   "execution_count": 13,
   "metadata": {},
   "outputs": [],
   "source": [
    "import xgboost as xgb\n",
    "from xgboost import plot_importance\n",
    "from xgboost.sklearn import XGBClassifier\n",
    "from sklearn import metrics\n",
    "from sklearn.model_selection import GridSearchCV, RandomizedSearchCV, StratifiedKFold\n",
    "from datetime import datetime\n",
    "\n",
    "from sklearn.model_selection import train_test_split\n",
    "from sklearn.metrics import confusion_matrix\n",
    "from sklearn.model_selection import GridSearchCV\n",
    "from sklearn.metrics.scorer import make_scorer\n",
    "X_train, X_valid, y_train, y_valid = train_test_split(train_x, train_y, test_size = 0.2, random_state = 10, stratify=train_y)\n",
    "def my_custom_score(y_valid, predxgb):\n",
    "    c = confusion_matrix(y_valid, predxgb)\n",
    "    result = (1000*(c[0,0]+c[1,1]+c[2,2])) - (100*(c[0,1]+c[1,2]+c[2,0])) -(200*c[0,2]) -(50*(c[1,0]+c[2,1]))\n",
    "\n",
    "    return result"
   ]
  },
  {
   "cell_type": "code",
   "execution_count": 19,
   "metadata": {},
   "outputs": [
    {
     "name": "stdout",
     "output_type": "stream",
     "text": [
      "[0]\tvalidation_0-merror:0.430147\n",
      "Will train until validation_0-merror hasn't improved in 200 rounds.\n",
      "[100]\tvalidation_0-merror:0.408529\n",
      "[200]\tvalidation_0-merror:0.406618\n",
      "Stopping. Best iteration:\n",
      "[78]\tvalidation_0-merror:0.406324\n",
      "\n"
     ]
    },
    {
     "data": {
      "text/plain": [
       "XGBClassifier(base_score=0.5, booster='gbtree', colsample_bylevel=0.7,\n",
       "              colsample_bynode=0.8, colsample_bytree=0.8, gamma=5,\n",
       "              learning_rate=0.1, max_delta_step=0, max_depth=9,\n",
       "              min_child_weight=1, missing=None, n_estimators=3000, n_jobs=-1,\n",
       "              n_thread=-1, nthread=None, objective='multi:softprob',\n",
       "              random_state=0, reg_alpha=0, reg_lambda=1, scale_pos_weight=1,\n",
       "              seed=None, silent=None, subsample=1, verbosity=1)"
      ]
     },
     "execution_count": 19,
     "metadata": {},
     "output_type": "execute_result"
    }
   ],
   "source": [
    "from xgboost import XGBClassifier\n",
    "\n",
    "modelxgb=XGBClassifier(\n",
    "                         n_jobs=-1,\n",
    "                         n_thread=-1,\n",
    "                        colsample_bylevel=0.7,colsample_bynode=0.9, colsample_bytree=1,\n",
    "                        gamma=5,learning_rate=0.1, max_delta_step=0, max_depth=9,n_estimators=3000,\n",
    "                        min_child_weight=1, objective='multi:softmax', random_state=0,\n",
    "                        reg_alpha=0, reg_lambda=1, scale_pos_weight=1,subsample=1, verbosity=1\n",
    "                        )\n",
    "modelxgb.fit(X_train, y_train,eval_set=[(X_valid, y_valid)], early_stopping_rounds=200,verbose=100)"
   ]
  },
  {
   "cell_type": "code",
   "execution_count": 320,
   "metadata": {},
   "outputs": [],
   "source": [
    "#406618\n",
    "from xgboost import XGBClassifier\n",
    "\n",
    "modelxgb=XGBClassifier(\n",
    "                         n_jobs=-1,\n",
    "                         n_thread=-1,\n",
    "                        colsample_bylevel=1,colsample_bynode=1, colsample_bytree=0.8,\n",
    "                        gamma=5,learning_rate=0.01, max_delta_step=0, max_depth=12,n_estimators=3000,\n",
    "                        min_child_weight=1, objective='multi:softmax', random_state=0,\n",
    "                        reg_alpha=0, reg_lambda=1, scale_pos_weight=1,subsample=1, verbosity=1\n",
    "                        )\n",
    "modelxgb.fit(X_train, y_train,eval_set=[(X_valid, y_valid)], early_stopping_rounds=200,verbose=100)"
   ]
  },
  {
   "cell_type": "code",
   "execution_count": 20,
   "metadata": {},
   "outputs": [
    {
     "name": "stdout",
     "output_type": "stream",
     "text": [
      "Wall time: 1min 29s\n"
     ]
    }
   ],
   "source": [
    "%%time\n",
    "import xgboost\n",
    "from xgboost import XGBClassifier\n",
    "\n",
    "modelxgb = XGBClassifier(\n",
    "                          n_jobs=-1,\n",
    "                         n_thread=-1,\n",
    "                        colsample_bylevel=0.7,colsample_bynode=0.8, colsample_bytree=0.9,\n",
    "                        gamma=5,learning_rate=0.1, max_delta_step=0, max_depth=9,n_estimators=150,\n",
    "                        min_child_weight=1, objective='multi:softmax', random_state=0,\n",
    "                        reg_alpha=0, reg_lambda=1, scale_pos_weight=1,subsample=1, verbosity=1\n",
    "                        )\n",
    "modelxgb.fit(train_x, train_y)\n",
    "predxgb1 = modelxgb.predict(test_x1)\n",
    "predxgb2 = modelxgb.predict(test_x2)\n",
    "# modelxgb.fit(X_train, y_train)\n",
    "# predxgb = modelxgb.predict(X_valid)\n",
    "# print(my_custom_score(y_valid, predxgb))"
   ]
  },
  {
   "cell_type": "code",
   "execution_count": 21,
   "metadata": {},
   "outputs": [],
   "source": [
    "a=pd.DataFrame()\n",
    "a['pred']=predxgb1\n",
    "a['pred'] = a['pred'].replace({0:'Low', 1:'Medium', 2:'High'})\n",
    "\n",
    "b=pd.DataFrame()\n",
    "b['pred']=predxgb2\n",
    "b['pred'] = b['pred'].replace({0:'Low', 1:'Medium', 2:'High'})\n",
    "\n",
    "final=pd.DataFrame()\n",
    "final['Col1'] = test['VAR1']\n",
    "final['Col2'] =a['pred']\n",
    "final.to_csv('KManalytica_IITRoorkee_100.csv', index=False, header=False)\n",
    "\n",
    "final2=pd.DataFrame()\n",
    "final2['Col1'] = test1['VAR1']\n",
    "final2['Col2'] =b['pred']\n",
    "final2.to_csv('eval_KManalytica_IITRoorkee_100.csv', index=False, header=False)"
   ]
  },
  {
   "cell_type": "code",
   "execution_count": null,
   "metadata": {},
   "outputs": [],
   "source": []
  },
  {
   "cell_type": "code",
   "execution_count": null,
   "metadata": {},
   "outputs": [],
   "source": []
  },
  {
   "cell_type": "code",
   "execution_count": null,
   "metadata": {},
   "outputs": [],
   "source": []
  },
  {
   "cell_type": "code",
   "execution_count": 9,
   "metadata": {},
   "outputs": [],
   "source": [
    "import xgboost as xgb\n",
    "from xgboost import plot_importance\n",
    "from xgboost.sklearn import XGBClassifier\n",
    "from sklearn import metrics\n",
    "from sklearn.model_selection import GridSearchCV, RandomizedSearchCV, StratifiedKFold\n",
    "from datetime import datetime"
   ]
  },
  {
   "cell_type": "code",
   "execution_count": null,
   "metadata": {},
   "outputs": [],
   "source": [
    "\n",
    "# from sklearn.model_selection import train_test_split\n",
    "# from sklearn.metrics import confusion_matrix\n",
    "# from sklearn.model_selection import GridSearchCV\n",
    "# from sklearn.metrics.scorer import make_scorer\n",
    "# X_train, X_valid, y_train, y_valid = train_test_split(train_x, train_y, test_size = 0.2, random_state = 10, stratify=train_y)\n",
    "# def my_custom_score(y_valid, predxgb):\n",
    "#     c = confusion_matrix(y_valid, predxgb)\n",
    "#     result = 1000*(c[0,0]+c[1,1]+c[2,2]) - 100*(c[0,1]+c[1,2]+c[2,0]) -200*c[0,2] -50*(c[1,0]+c[2,1])\n",
    "\n",
    "#     return result\n",
    "\n",
    "# scorer = make_scorer(my_custom_score, greater_is_better=True)\n",
    "\n",
    "# modelxgb   =    XGBClassifier( max_delta_step=0,\n",
    "#                 missing=None, n_jobs=-1,\n",
    "#                 nthread=-1, random_state=0,\n",
    "#                 reg_alpha=0, reg_lambda=1, scale_pos_weight=1, seed=None,\n",
    "#                 silent=True, verbosity=3)\n",
    "\n",
    "# grid_values = {\n",
    "#     'learning_rate': [0.09,0.1], 'max_depth' : [6,7], 'n_estimators' :[90,100]\n",
    "# }\n",
    "\n",
    "# grid = GridSearchCV(modelxgb, param_grid = grid_values, scoring=scorer, n_jobs=-1, return_train_score=False)\n",
    "# grid.fit(X_train, y_train)\n",
    "# predxgb    =    grid.predict(X_valid)\n",
    "# print('Grid best parameter: ',grid.best_params_)\n",
    "# print('Grid best score: ',grid.best_score_)"
   ]
  },
  {
   "cell_type": "code",
   "execution_count": null,
   "metadata": {},
   "outputs": [
    {
     "name": "stderr",
     "output_type": "stream",
     "text": [
      "C:\\ProgramData\\Anaconda3\\lib\\site-packages\\sklearn\\model_selection\\_split.py:1978: FutureWarning: The default value of cv will change from 3 to 5 in version 0.22. Specify it explicitly to silence this warning.\n",
      "  warnings.warn(CV_WARNING, FutureWarning)\n",
      "[Parallel(n_jobs=-1)]: Using backend LokyBackend with 4 concurrent workers.\n"
     ]
    },
    {
     "name": "stdout",
     "output_type": "stream",
     "text": [
      "Fitting 3 folds for each of 5 candidates, totalling 15 fits\n"
     ]
    }
   ],
   "source": [
    "# def timer(start_time=None):\n",
    "#     if not start_time:\n",
    "#         start_time = datetime.now()\n",
    "#         return start_time\n",
    "#     elif start_time:\n",
    "#         thour, temp_sec = divmod((datetime.now() - start_time).total_seconds(), 3600)\n",
    "#         tmin, tsec = divmod(temp_sec, 60)\n",
    "#         print('\\n Time taken: %i hours %i minutes and %s seconds.' % (thour, tmin, round(tsec, 2)))\n",
    "\n",
    "\n",
    "import xgboost as xgb\n",
    "from xgboost import plot_importance\n",
    "from xgboost.sklearn import XGBClassifier\n",
    "from sklearn import metrics\n",
    "from sklearn.model_selection import GridSearchCV, RandomizedSearchCV, StratifiedKFold\n",
    "from datetime import datetime\n",
    "\n",
    "from sklearn.model_selection import train_test_split\n",
    "from sklearn.metrics import confusion_matrix\n",
    "from sklearn.model_selection import GridSearchCV\n",
    "from sklearn.metrics.scorer import make_scorer\n",
    "X_train, X_valid, y_train, y_valid = train_test_split(train_x, train_y, test_size = 0.2, random_state = 10, stratify=train_y)\n",
    "def my_custom_score(y_valid, predxgb):\n",
    "    c = confusion_matrix(y_valid, predxgb)\n",
    "    result = 1000*(c[0,0]+c[1,1]+c[2,2]) - 100*(c[0,1]+c[1,2]+c[2,0]) -200*c[0,2] -50*(c[1,0]+c[2,1])\n",
    "\n",
    "    return result\n",
    "\n",
    "scorer = make_scorer(my_custom_score, greater_is_better=True)\n",
    "        \n",
    "params = {\n",
    "        'min_child_weight': [1, 5, 10],\n",
    "        'gamma': [0, 1, 2, 5],\n",
    "        'subsample': [0.6, 0.8, 1.0],\n",
    "        'colsample_bytree': [0.6, 0.8, 1.0],\n",
    "        'max_depth': [6, 8, 10, 12, 14]\n",
    "        }\n",
    "xgb = XGBClassifier(learning_rate=0.01, n_estimators=100, objective='binary:logistic',\n",
    "                    silent=True, nthread=-1)\n",
    "# folds = 3\n",
    "param_comb = 5\n",
    "\n",
    "# skf = StratifiedKFold(n_splits=folds, shuffle = True, random_state = 1995)\n",
    "\n",
    "random_search = RandomizedSearchCV(xgb, param_distributions=params, n_iter=param_comb, scoring=scorer, n_jobs=-1,verbose=3, random_state=1995 )\n",
    "\n",
    "# # Here we go\n",
    "# start_time = timer(None) # timing starts from this point for \"start_time\" variable\n",
    "# random_search.fit(train_x,train_y)\n",
    "# timer(start_time) # timing ends here for \"start_time\" variable\n",
    "\n",
    "random_search.fit(X_train, y_train)\n",
    "predxgb    =    random_search.predict(X_valid)\n",
    "print('Grid best parameter: ',random_search.best_params_)\n",
    "print('Grid best score: ',random_search.best_score_)"
   ]
  },
  {
   "cell_type": "code",
   "execution_count": 97,
   "metadata": {},
   "outputs": [
    {
     "name": "stdout",
     "output_type": "stream",
     "text": [
      "\n",
      " All results:\n",
      "{'mean_fit_time': array([1629.21713395, 2146.20552783,  482.40100241, 1884.52070851,\n",
      "       1014.06387281]), 'std_fit_time': array([195.24458535, 234.8539422 ,  60.57153827, 143.13823951,\n",
      "       106.32184391]), 'mean_score_time': array([1.28510017, 2.88387322, 0.47805128, 2.28283219, 1.02498565]), 'std_score_time': array([0.1285068 , 0.61402082, 0.02597783, 0.20703962, 0.41827328]), 'param_subsample': masked_array(data=[0.6, 0.6, 1.0, 1.0, 1.0],\n",
      "             mask=[False, False, False, False, False],\n",
      "       fill_value='?',\n",
      "            dtype=object), 'param_min_child_weight': masked_array(data=[10, 5, 1, 5, 10],\n",
      "             mask=[False, False, False, False, False],\n",
      "       fill_value='?',\n",
      "            dtype=object), 'param_max_depth': masked_array(data=[12, 15, 5, 12, 9],\n",
      "             mask=[False, False, False, False, False],\n",
      "       fill_value='?',\n",
      "            dtype=object), 'param_gamma': masked_array(data=[5, 5, 1, 2, 5],\n",
      "             mask=[False, False, False, False, False],\n",
      "       fill_value='?',\n",
      "            dtype=object), 'param_colsample_bytree': masked_array(data=[0.8, 0.6, 1.0, 1.0, 0.8],\n",
      "             mask=[False, False, False, False, False],\n",
      "       fill_value='?',\n",
      "            dtype=object), 'params': [{'subsample': 0.6, 'min_child_weight': 10, 'max_depth': 12, 'gamma': 5, 'colsample_bytree': 0.8}, {'subsample': 0.6, 'min_child_weight': 5, 'max_depth': 15, 'gamma': 5, 'colsample_bytree': 0.6}, {'subsample': 1.0, 'min_child_weight': 1, 'max_depth': 5, 'gamma': 1, 'colsample_bytree': 1.0}, {'subsample': 1.0, 'min_child_weight': 5, 'max_depth': 12, 'gamma': 2, 'colsample_bytree': 1.0}, {'subsample': 1.0, 'min_child_weight': 10, 'max_depth': 9, 'gamma': 5, 'colsample_bytree': 0.8}], 'split0_test_score': array([0.4327265 , 0.43046426, 0.42896021, 0.43157135, 0.42921254]), 'split1_test_score': array([0.42929731, 0.43053736, 0.42468237, 0.43416475, 0.42716581]), 'split2_test_score': array([0.4196922 , 0.42046816, 0.41866346, 0.42068781, 0.41971255]), 'split3_test_score': array([0.41845865, 0.4170022 , 0.41316376, 0.42569673, 0.41967524]), 'split4_test_score': array([0.42215999, 0.42489066, 0.41894024, 0.4293068 , 0.42485042]), 'mean_test_score': array([0.42446794, 0.42467338, 0.42088294, 0.42828612, 0.42412394]), 'std_test_score': array([0.00558187, 0.00537591, 0.00544013, 0.00470809, 0.00387115]), 'rank_test_score': array([3, 2, 5, 1, 4])}\n",
      "\n",
      " Best estimator:\n",
      "XGBClassifier(base_score=0.5, booster='gbtree', colsample_bylevel=1,\n",
      "              colsample_bynode=1, colsample_bytree=1.0, gamma=2,\n",
      "              learning_rate=0.01, max_delta_step=0, max_depth=12,\n",
      "              min_child_weight=5, missing=None, n_estimators=650, n_jobs=1,\n",
      "              nthread=-1, objective='multi:softprob', random_state=0,\n",
      "              reg_alpha=0, reg_lambda=1, scale_pos_weight=1, seed=None,\n",
      "              silent=True, subsample=1.0, verbosity=1)\n",
      "\n",
      " Best normalized gini score for 5-fold search with 5 parameter combinations:\n",
      "-0.14342775107558492\n",
      "\n",
      " Best hyperparameters:\n",
      "{'subsample': 1.0, 'min_child_weight': 5, 'max_depth': 12, 'gamma': 2, 'colsample_bytree': 1.0}\n"
     ]
    }
   ],
   "source": [
    "print('\\n All results:')\n",
    "print(random_search.cv_results_)\n",
    "print('\\n Best estimator:')\n",
    "print(random_search.best_estimator_)\n",
    "print('\\n Best normalized gini score for %d-fold search with %d parameter combinations:' % (folds, param_comb))\n",
    "print(random_search.best_score_ * 2 - 1)\n",
    "print('\\n Best hyperparameters:')\n",
    "print(random_search.best_params_)\n",
    "results = pd.DataFrame(random_search.cv_results_)\n",
    "results.to_csv('xgb-random-grid-search-results-01.csv', index=False)"
   ]
  },
  {
   "cell_type": "code",
   "execution_count": null,
   "metadata": {},
   "outputs": [],
   "source": []
  },
  {
   "cell_type": "code",
   "execution_count": null,
   "metadata": {},
   "outputs": [],
   "source": []
  },
  {
   "cell_type": "code",
   "execution_count": 60,
   "metadata": {},
   "outputs": [
    {
     "name": "stdout",
     "output_type": "stream",
     "text": [
      "Wall time: 2min 45s\n"
     ]
    }
   ],
   "source": [
    "%%time\n",
    "import xgboost\n",
    "from xgboost import XGBClassifier\n",
    "\n",
    "modelxgb = XGBClassifiermodelxgb=XGBClassifier(\n",
    "                         n_jobs=-1,\n",
    "                         n_thread=-1,\n",
    "                        colsample_bylevel=0.7,colsample_bynode=0.8, colsample_bytree=1,\n",
    "                        gamma=5,learning_rate=0.1, max_delta_step=0, max_depth=9,\n",
    "                        min_child_weight=1, n_estimators=167,objective='multi:softmax', random_state=0,\n",
    "                        reg_alpha=0, reg_lambda=1, scale_pos_weight=1,subsample=1, verbosity=1\n",
    "                        )\n",
    "modelxgb.fit(train_x, train_y)\n",
    "predxgb1 = modelxgb.predict(test_x1)\n",
    "predxgb2 = modelxgb.predict(test_x2)"
   ]
  },
  {
   "cell_type": "code",
   "execution_count": 97,
   "metadata": {},
   "outputs": [],
   "source": [
    "a=pd.DataFrame()\n",
    "a['pred']=predxgb1\n",
    "a['pred'] = a['pred'].replace({0:'Low', 1:'Medium', 2:'High'})\n",
    "\n",
    "b=pd.DataFrame()\n",
    "b['pred']=predxgb2\n",
    "b['pred'] = b['pred'].replace({0:'Low', 1:'Medium', 2:'High'})\n",
    "\n",
    "final=pd.DataFrame()\n",
    "final['Col1'] = test['VAR1']\n",
    "final['Col2'] =a['pred']\n",
    "final.to_csv('KManalytica_IITRoorkee_90.csv', index=False, header=False)\n",
    "\n",
    "final2=pd.DataFrame()\n",
    "final2['Col1'] = test1['VAR1']\n",
    "final2['Col2'] =b['pred']\n",
    "final2.to_csv('eval_KManalytica_IITRoorkee_90.csv', index=False, header=False)"
   ]
  },
  {
   "cell_type": "code",
   "execution_count": 99,
   "metadata": {},
   "outputs": [
    {
     "data": {
      "text/plain": [
       "<matplotlib.axes._subplots.AxesSubplot at 0x1ffe72fffd0>"
      ]
     },
     "execution_count": 99,
     "metadata": {},
     "output_type": "execute_result"
    },
    {
     "data": {
      "image/png": "[encoded data removed]",
      "text/plain": [
       "<Figure size 1440x1080 with 1 Axes>"
      ]
     },
     "metadata": {
      "needs_background": "light"
     },
     "output_type": "display_data"
    }
   ],
   "source": [
    "import seaborn as sns\n",
    "plt.figure(figsize=(20,15))\n",
    "sns.barplot(modelxgb.feature_importances_, train_x.columns)"
   ]
  },
  {
   "cell_type": "code",
   "execution_count": 234,
   "metadata": {},
   "outputs": [
    {
     "data": {
      "text/plain": [
       "<matplotlib.axes._subplots.AxesSubplot at 0x1f74942b748>"
      ]
     },
     "execution_count": 234,
     "metadata": {},
     "output_type": "execute_result"
    },
    {
     "data": {
      "image/png": "[encoded data removed]",
      "text/plain": [
       "<Figure size 1440x1080 with 1 Axes>"
      ]
     },
     "metadata": {
      "needs_background": "light"
     },
     "output_type": "display_data"
    }
   ],
   "source": [
    "plt.figure(figsize=(20,15))\n",
    "feat_importances = pd.Series(modelxgb.feature_importances_, index=train_x.columns)\n",
    "feat_importances.nlargest(30).plot(kind='barh')"
   ]
  },
  {
   "cell_type": "code",
   "execution_count": 146,
   "metadata": {},
   "outputs": [
    {
     "data": {
      "text/plain": [
       "Index(['VAR3', 'new6', 'VAR2', 'VAR4', 'VAR20', 'new5', 'abnew3', 'VAR19',\n",
       "       'new7', 'abnew5', 'VAR13', 'abnew1', 'VAR6', 'abnew2', 'VAR12', 'new1',\n",
       "       'abnew6', 'VAR7', 'VAR14', 'VAR15', 'new8', 'new3', 'abnew4', 'new10',\n",
       "       'abnew7'],\n",
       "      dtype='object')"
      ]
     },
     "execution_count": 146,
     "metadata": {},
     "output_type": "execute_result"
    }
   ],
   "source": [
    "a=feat_importances.nlargest(25).index\n",
    "a"
   ]
  },
  {
   "cell_type": "code",
   "execution_count": null,
   "metadata": {},
   "outputs": [],
   "source": []
  },
  {
   "cell_type": "code",
   "execution_count": null,
   "metadata": {},
   "outputs": [],
   "source": []
  },
  {
   "cell_type": "code",
   "execution_count": null,
   "metadata": {},
   "outputs": [],
   "source": []
  }
 ],
 "metadata": {
  "colab": {
   "collapsed_sections": [],
   "name": "Untitled1.ipynb",
   "provenance": []
  },
  "kernelspec": {
   "display_name": "Python 3",
   "language": "python",
   "name": "python3"
  },
  "language_info": {
   "codemirror_mode": {
    "name": "ipython",
    "version": 3
   },
   "file_extension": ".py",
   "mimetype": "text/x-python",
   "name": "python",
   "nbconvert_exporter": "python",
   "pygments_lexer": "ipython3",
   "version": "3.7.3"
  }
 },
 "nbformat": 4,
 "nbformat_minor": 1
}
